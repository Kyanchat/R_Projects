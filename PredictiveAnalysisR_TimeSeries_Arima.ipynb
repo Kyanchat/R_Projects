{
  "cells": [
    {
      "cell_type": "code",
      "execution_count": null,
      "metadata": {
        "id": "KouTFh7xUJhj"
      },
      "outputs": [],
      "source": [
        "# Installing the R language on Collab\n",
        "!pip install rpy2==3.5.1"
      ]
    },
    {
      "cell_type": "code",
      "execution_count": 2,
      "metadata": {
        "id": "90jqMur6UF7h"
      },
      "outputs": [],
      "source": [
        "%load_ext rpy2.ipython"
      ]
    },
    {
      "cell_type": "code",
      "execution_count": 3,
      "metadata": {
        "colab": {
          "base_uri": "https://localhost:8080/"
        },
        "id": "kvnpNZAsVKvn",
        "outputId": "1b05c8a5-0d4a-434a-bcdd-9d4577387029"
      },
      "outputs": [
        {
          "name": "stdout",
          "output_type": "stream",
          "text": [
            "  infoavail housecost schoolquality policetrust streetquality ëvents happy\n",
            "1         3         3             3           4             2      4     0\n",
            "2         3         2             3           5             4      3     0\n",
            "3         5         3             3           3             3      5     1\n",
            "4         5         4             3           3             3      5     0\n",
            "5         5         4             3           3             3      5     0\n",
            "6         5         5             3           5             5      5     1\n"
          ]
        }
      ],
      "source": [
        "# Reading the dataset\n",
        "%%R\n",
        "data=read.csv('/content/happydata.csv')\n",
        "# Getting the first six rows of the dataset\n",
        "head(data)"
      ]
    },
    {
      "cell_type": "markdown",
      "metadata": {
        "id": "gmO9MXM7VVRd"
      },
      "source": [
        "Here, we are predicting peoples happiness in terms of four inputs/ independent variable;\n",
        "house cost, school Quality, Street Quality, and Events\n",
        "\n",
        "\n",
        "Thus, because our output variable(happy) is a binary column, we will the **logistic regression GLM model** for this prediction.\n",
        "\n",
        "First, we will input each input feature in variable x1....x4, and then create a new dataframe with the selected input and output variables"
      ]
    },
    {
      "cell_type": "code",
      "execution_count": 5,
      "metadata": {
        "colab": {
          "base_uri": "https://localhost:8080/"
        },
        "id": "lVWbVyoLWPvY",
        "outputId": "f4448e12-b5fe-4c61-9c96-ce047d0d9062"
      },
      "outputs": [
        {
          "name": "stdout",
          "output_type": "stream",
          "text": [
            "  x1 x2 x3 x4 y\n",
            "1  3  4  3  2 0\n",
            "2  2  3  3  4 0\n",
            "3  3  5  3  3 1\n",
            "4  4  5  3  3 0\n",
            "5  4  5  3  3 0\n",
            "6  5  5  3  5 1\n"
          ]
        }
      ],
      "source": [
        "%%R\n",
        "# Specifing the variables for consideration(both input and output varible)\n",
        "y= data$happy # the dependent variable\n",
        "x1 = data$housecost\n",
        "x2 = data$ëvents\n",
        "x3 = data$schoolquality\n",
        "x4 = data$streetquality\n",
        "\n",
        "# Creating a dataframe with the highlighted columns\n",
        "df=na.omit(data.frame(x1,x2,x3,x4,y))\n",
        "head(df)"
      ]
    },
    {
      "cell_type": "markdown",
      "metadata": {
        "id": "gw2yWHGKWsBV"
      },
      "source": [
        "Next, we will split the dataset into train and test set. The test set will be 80% of the data and the test set will be 20% of the data.\n",
        "\n",
        "To achieve this, we multiply the length of the dataframe by 0.8% and select random samples as our train dataset, while the rest represent our test dataset.\n",
        "\n",
        "Finally we train our model using the train dataset"
      ]
    },
    {
      "cell_type": "code",
      "execution_count": 6,
      "metadata": {
        "colab": {
          "base_uri": "https://localhost:8080/"
        },
        "id": "22BIeAX3Wc5m",
        "outputId": "881b8165-0c63-4094-caa7-e32f6dd5c658"
      },
      "outputs": [
        {
          "name": "stdout",
          "output_type": "stream",
          "text": [
            "(Intercept)          x1          x2          x3          x4 \n",
            "-2.27535532  0.05317841  0.10732416  0.16405237  0.35323933 \n"
          ]
        }
      ],
      "source": [
        "%%R\n",
        "#spliting the dataset\n",
        "set.seed(32)\n",
        "n=nrow(df)\n",
        "indexes = sample(n,n*(80/100)) # the ratio of trainset is 80% and testset is 20%\n",
        "trainset = df[indexes,]\n",
        "testset = df[-indexes,]\n",
        "\n",
        "# Fitting the model with the trained dataset\n",
        "fit=glm(y~., data= trainset, family='binomial')\n",
        "coef(fit)"
      ]
    },
    {
      "cell_type": "markdown",
      "metadata": {
        "id": "Y6cojSdCXRAo"
      },
      "source": [
        "\n",
        "Here, where alpha is greater than p-value, we consider the independent variable as an important feature, and vice versa.\n",
        "\n",
        "To get the p-value of each input variable, we will use the summary() function in GLM"
      ]
    },
    {
      "cell_type": "code",
      "execution_count": 7,
      "metadata": {
        "colab": {
          "base_uri": "https://localhost:8080/"
        },
        "id": "FX6H5lhbXV5H",
        "outputId": "7fccc266-47ff-4045-e009-67e0b96996de"
      },
      "outputs": [
        {
          "name": "stdout",
          "output_type": "stream",
          "text": [
            "\n",
            "Call:\n",
            "glm(formula = y ~ ., family = \"binomial\", data = trainset)\n",
            "\n",
            "Coefficients:\n",
            "            Estimate Std. Error z value Pr(>|z|)  \n",
            "(Intercept) -2.27536    1.30418  -1.745   0.0810 .\n",
            "x1           0.05318    0.18541   0.287   0.7743  \n",
            "x2           0.10732    0.25145   0.427   0.6695  \n",
            "x3           0.16405    0.21030   0.780   0.4353  \n",
            "x4           0.35324    0.20048   1.762   0.0781 .\n",
            "---\n",
            "Signif. codes:  0 ‘***’ 0.001 ‘**’ 0.01 ‘*’ 0.05 ‘.’ 0.1 ‘ ’ 1\n",
            "\n",
            "(Dispersion parameter for binomial family taken to be 1)\n",
            "\n",
            "    Null deviance: 157.16  on 113  degrees of freedom\n",
            "Residual deviance: 150.61  on 109  degrees of freedom\n",
            "AIC: 160.61\n",
            "\n",
            "Number of Fisher Scoring iterations: 4\n",
            "\n"
          ]
        }
      ],
      "source": [
        "%%R\n",
        "# Getting the summary of the model\n",
        "summary(fit)"
      ]
    },
    {
      "cell_type": "markdown",
      "metadata": {
        "id": "Y2xspQonXgM3"
      },
      "source": [
        "So far, we can see that none of the p-values for the variables are less than 0.05. Therefore, based on this significance level, none of the columns has a significant impact on our output variable."
      ]
    },
    {
      "cell_type": "markdown",
      "metadata": {
        "id": "ocYRHxyEXr_o"
      },
      "source": [
        "\n",
        "\n",
        "Here, we will use the GLM predict() function, and making predictions with the trained model based on the test dataset.\n",
        "\n",
        "Next, we will create a binary threshold of 0 and 1 for all the predicted results, setting all predicted values above 0.5 as 1 and those below as 0.\n",
        "\n",
        "Finally, we will create a dataframe to compare predicted values and the actual value."
      ]
    },
    {
      "cell_type": "code",
      "execution_count": 10,
      "metadata": {
        "colab": {
          "base_uri": "https://localhost:8080/"
        },
        "id": "aQm4j9vaXlVn",
        "outputId": "16254e77-debd-4a5f-b824-1fb4b23702e4"
      },
      "outputs": [
        {
          "name": "stdout",
          "output_type": "stream",
          "text": [
            "  Actual yhat\n",
            "1      0    0\n",
            "2      0    1\n",
            "3      1    0\n",
            "4      1    1\n",
            "5      1    0\n",
            "6      0    1\n"
          ]
        }
      ],
      "source": [
        "%%R\n",
        "\n",
        "# Make predictions on the test set\n",
        "pred = predict(fit, testset, type = 'response')\n",
        "\n",
        "# Creating a binary predictions based on a threshold of 0.5\n",
        "yhat = rep(0, length(pred))\n",
        "yhat[pred > 0.5] = 1\n",
        "\n",
        "# Displaying the predicted result and the actual results\n",
        "Actual = testset$y\n",
        "result_df = data.frame(Actual,yhat)\n",
        "head(result_df)"
      ]
    },
    {
      "cell_type": "markdown",
      "metadata": {
        "id": "C_fBxQZ_EGgN"
      },
      "source": [
        "\n",
        "\n",
        "Here we will compute the confusion metrics, showing the count of all predicted and actual values using the table() function.\n",
        "\n",
        "Also, for the probability of correctness, we will compute the accuracy, recall and precision scores."
      ]
    },
    {
      "cell_type": "code",
      "execution_count": 13,
      "metadata": {
        "colab": {
          "base_uri": "https://localhost:8080/"
        },
        "id": "ZWVm962YEHvp",
        "outputId": "3bc05e9a-b903-4138-ca2b-a1feb434bf89"
      },
      "outputs": [
        {
          "name": "stdout",
          "output_type": "stream",
          "text": [
            "Confusion Matrix:\n",
            "      yhat\n",
            "Actual 0 1\n",
            "     0 8 6\n",
            "     1 6 9\n",
            "Accuracy: 0.5862069 \n",
            "Recall: 0.6 \n",
            "Precision: 0.6 \n"
          ]
        }
      ],
      "source": [
        "%%R\n",
        "# Computing confusion metrics\n",
        "confusion=table(Actual,yhat)\n",
        "cat(\"Confusion Matrix:\\n\")\n",
        "print(confusion)\n",
        "\n",
        "# computing the accuracy of the model\n",
        "accuracy=mean(yhat==Actual)\n",
        "cat(\"Accuracy:\", accuracy, \"\\n\")\n",
        "\n",
        "#compute recall\n",
        "Recall=confusion[2,2]/(confusion[2,2]+confusion[2,1])\n",
        "cat(\"Recall:\", Recall, \"\\n\")\n",
        "\n",
        "#compute Precision\n",
        "Precision=confusion[2,2]/(confusion[2,2]+confusion[1,2])\n",
        "cat(\"Precision:\", Precision, \"\\n\")"
      ]
    },
    {
      "cell_type": "markdown",
      "metadata": {
        "id": "S6-oJSPkEvpd"
      },
      "source": [
        "\n",
        "\n",
        "**Use the a particular stock market dataset and apply the following steps to accomplish the time series analysis:**\n",
        "\n",
        "First we install the necessary libraries"
      ]
    },
    {
      "cell_type": "code",
      "execution_count": null,
      "metadata": {
        "id": "dzojO6yUE9hR"
      },
      "outputs": [],
      "source": [
        "%%R\n",
        "# Install and load necessary libraries\n",
        "install.packages(c(\"tseries\", \"forecast\"))"
      ]
    },
    {
      "cell_type": "code",
      "execution_count": null,
      "metadata": {
        "id": "SVn2ytRrGR47"
      },
      "outputs": [],
      "source": [
        "%%R\n",
        "# Loading the packages\n",
        "library(tseries)\n",
        "library(forecast)"
      ]
    },
    {
      "cell_type": "markdown",
      "metadata": {
        "id": "Ws8V4Xm7HxpB"
      },
      "source": [
        "Next, we will read the data.\n",
        "\n",
        "\n",
        "\n",
        "For this assessment we will be focusing on the Amazon stock data from yahoo finance, and particularly, we will be focusing on predicting the stock closing prices from April 2021 to todays date.\n",
        "\n",
        "First, we check for stationarity in the chosen data."
      ]
    },
    {
      "cell_type": "code",
      "execution_count": 18,
      "metadata": {
        "colab": {
          "base_uri": "https://localhost:8080/"
        },
        "id": "pMLzQyGbGuvw",
        "outputId": "ff05b071-ac33-4512-d34b-1da5b40f45fa"
      },
      "outputs": [
        {
          "name": "stdout",
          "output_type": "stream",
          "text": [
            "           AMZN.Open AMZN.High AMZN.Low AMZN.Close AMZN.Volume AMZN.Adjusted\n",
            "2021-04-19  169.5165  171.7965 168.0080   168.6005    54508000      168.6005\n",
            "2021-04-20  168.6800  169.1495 165.8000   166.7345    52460000      166.7345\n",
            "2021-04-21  165.8000  168.1430 165.1905   168.1010    44224000      168.1010\n",
            "2021-04-22  168.5840  168.6435 165.0725   165.4520    51612000      165.4520\n",
            "2021-04-23  165.9550  168.7500 165.4250   167.0440    63856000      167.0440\n",
            "2021-04-26  167.4000  171.4225 166.5470   170.4500    97614000      170.4500\n"
          ]
        }
      ],
      "source": [
        "%%R\n",
        "# Reading the Amazon stock data from yahoo finance\n",
        "library(TTR); library(quantmod)\n",
        "data=getSymbols('AMZN', src='yahoo', from='2021-04-17',auto.assign = FALSE)\n",
        "head(data);"
      ]
    },
    {
      "cell_type": "code",
      "execution_count": 21,
      "metadata": {
        "colab": {
          "base_uri": "https://localhost:8080/",
          "height": 497
        },
        "id": "OkWSIdGeIgMQ",
        "outputId": "035836c9-5432-4faf-f38b-bfc68c5b4901"
      },
      "outputs": [
        {
          "data": {
            "image/png": "[encoded data removed]"
          },
          "metadata": {},
          "output_type": "display_data"
        }
      ],
      "source": [
        "%%R\n",
        "# Checking for stationarity in the data\n",
        "X=data$AMZN.Close\n",
        "\n",
        "plot(X)  # time series\n"
      ]
    },
    {
      "cell_type": "markdown",
      "metadata": {
        "id": "33pcpUmOI7O4"
      },
      "source": [
        "From the graph above, we can tell that the data is non-stationary. In order to make the data stationary in mean, we use diff()"
      ]
    },
    {
      "cell_type": "code",
      "execution_count": 22,
      "metadata": {
        "colab": {
          "base_uri": "https://localhost:8080/",
          "height": 497
        },
        "id": "j560jZRZJ-cL",
        "outputId": "732b8479-dfec-4a8d-9a0e-c7bd6c447b54"
      },
      "outputs": [
        {
          "data": {
            "image/png": "[encoded data removed]"
          },
          "metadata": {},
          "output_type": "display_data"
        }
      ],
      "source": [
        "%%R\n",
        "# Making the dataset stationary in mean\n",
        "s=diff(X)\n",
        "plot(s)  # time series"
      ]
    },
    {
      "cell_type": "markdown",
      "metadata": {
        "id": "2wdXgJYnLdzM"
      },
      "source": [
        "We have now successfully made the data stationary mean, and it also looks stationary in variance.\n",
        "\n",
        "### b)\tUse acf() and pacf() functions to identify the order of AR and MA.\n",
        "\n",
        "Here, we first handle all the missing values and na values in our dataset. Then we proceed to plotting the acf and pacf charts"
      ]
    },
    {
      "cell_type": "code",
      "execution_count": 28,
      "metadata": {
        "id": "kV0evwBfLaHT"
      },
      "outputs": [],
      "source": [
        "%%R\n",
        "# Identifying missing values in the dataset\n",
        "any(is.na(s))\n",
        "\n",
        "# Removing na/missing values in the dataset\n",
        "s = na.omit(s)"
      ]
    },
    {
      "cell_type": "code",
      "execution_count": 30,
      "metadata": {
        "colab": {
          "base_uri": "https://localhost:8080/",
          "height": 497
        },
        "id": "Vgn9EC-0OJFm",
        "outputId": "bde72891-b5a4-4d21-863d-3469dd31ed7c"
      },
      "outputs": [
        {
          "data": {
            "image/png": "[encoded data removed]"
          },
          "metadata": {},
          "output_type": "display_data"
        }
      ],
      "source": [
        "%%R\n",
        "# Identifying the acf\n",
        "acf(s)"
      ]
    },
    {
      "cell_type": "markdown",
      "metadata": {
        "id": "Aql_S483O-U0"
      },
      "source": [
        "Based on the acf plot, the order of MA is q=1 since only one initial lags are outside of the bounds."
      ]
    },
    {
      "cell_type": "code",
      "execution_count": 31,
      "metadata": {
        "colab": {
          "base_uri": "https://localhost:8080/",
          "height": 497
        },
        "id": "tl7fSD_IOuLb",
        "outputId": "7fd9c38a-d34d-4e04-935c-134d07612561"
      },
      "outputs": [
        {
          "data": {
            "image/png": "[encoded data removed]"
          },
          "metadata": {},
          "output_type": "display_data"
        }
      ],
      "source": [
        "%%R\n",
        "# Identifying the pacf\n",
        "pacf(s)"
      ]
    },
    {
      "cell_type": "markdown",
      "metadata": {
        "id": "-Ttwm-7mO0e2"
      },
      "source": [
        "Based on the pacf plot, the order of AR is p=0 since no initial lags are outside of the bounds.\n",
        "\n",
        "            "
      ]
    },
    {
      "cell_type": "code",
      "execution_count": 36,
      "metadata": {
        "colab": {
          "base_uri": "https://localhost:8080/"
        },
        "id": "F6nF_XjkPgGj",
        "outputId": "98f5ee9a-530b-46ed-db89-60b2fec3c5ff"
      },
      "outputs": [
        {
          "name": "stdout",
          "output_type": "stream",
          "text": [
            "Series: X \n",
            "ARIMA(0,1,0) \n",
            "\n",
            "sigma^2 = 9.848:  log likelihood = -1719.5\n",
            "AIC=3441   AICc=3441   BIC=3445.51\n"
          ]
        }
      ],
      "source": [
        "%%R\n",
        "# Learning the best Seasonal ARIMA MODEL\n",
        "seasonal = auto.arima(X, seasonal=T)\n",
        "seasonal"
      ]
    },
    {
      "cell_type": "code",
      "execution_count": 35,
      "metadata": {
        "colab": {
          "base_uri": "https://localhost:8080/"
        },
        "id": "ORV0HfH3QWyF",
        "outputId": "9df49545-b53b-4365-d332-72b5ada36921"
      },
      "outputs": [
        {
          "name": "stdout",
          "output_type": "stream",
          "text": [
            "Series: X \n",
            "ARIMA(0,1,0) \n",
            "\n",
            "sigma^2 = 9.848:  log likelihood = -1719.5\n",
            "AIC=3441   AICc=3441   BIC=3445.51\n"
          ]
        }
      ],
      "source": [
        "%%R\n",
        "# Learning the best non-seasonal ARIMA MODEL\n",
        "non_seasonal = auto.arima(X, seasonal=F)\n",
        "non_seasonal"
      ]
    },
    {
      "cell_type": "markdown",
      "metadata": {
        "id": "GyWWaz9CRPLt"
      },
      "source": [
        "Here, we note that in the best model, p = 0 and q = 0. Since the AIC for both the seasonal and non-seasonal are similar, both provide the best model for making predictions.\n",
        "\n",
        "\n",
        "\n",
        "Here, we will use the seasonal model for our future forcast."
      ]
    },
    {
      "cell_type": "code",
      "execution_count": 38,
      "metadata": {
        "colab": {
          "base_uri": "https://localhost:8080/",
          "height": 497
        },
        "id": "Qm21CpaGR80Y",
        "outputId": "2cad6ef2-4ca7-4849-f5ba-618348eea565"
      },
      "outputs": [
        {
          "data": {
            "image/png": "[encoded data removed]"
          },
          "metadata": {},
          "output_type": "display_data"
        }
      ],
      "source": [
        "%%R\n",
        "# Making 10 extra month predictions\n",
        "predictions = forecast(seasonal, h=10)\n",
        "\n",
        "# Plotting the first predictions\n",
        "plot(predictions)"
      ]
    },
    {
      "cell_type": "code",
      "execution_count": 39,
      "metadata": {
        "colab": {
          "base_uri": "https://localhost:8080/"
        },
        "id": "c6q_55P9SRLO",
        "outputId": "3bbb6b91-def7-4fba-a2db-7dbb8780cd58"
      },
      "outputs": [
        {
          "name": "stdout",
          "output_type": "stream",
          "text": [
            "    Point Forecast    Lo 80    Hi 80    Lo 95    Hi 95\n",
            "673         149.97 145.9482 153.9918 143.8192 156.1208\n",
            "674         149.97 144.2823 155.6577 141.2715 158.6685\n",
            "675         149.97 143.0041 156.9359 139.3165 160.6235\n",
            "676         149.97 141.9264 158.0136 137.6684 162.2716\n",
            "677         149.97 140.9770 158.9630 136.2164 163.7236\n",
            "678         149.97 140.1187 159.8213 134.9037 165.0363\n",
            "679         149.97 139.3293 160.6107 133.6965 166.2435\n",
            "680         149.97 138.5947 161.3453 132.5729 167.3671\n",
            "681         149.97 137.9046 162.0354 131.5176 168.4224\n",
            "682         149.97 137.2520 162.6880 130.5195 169.4205\n"
          ]
        }
      ],
      "source": [
        "%%R\n",
        "# Displaying the actual predictions\n",
        "predictions"
      ]
    },
    {
      "cell_type": "code",
      "execution_count": null,
      "metadata": {
        "id": "SXiTK8IfScXk"
      },
      "outputs": [],
      "source": []
    }
  ],
  "metadata": {
    "colab": {
      "provenance": []
    },
    "kernelspec": {
      "display_name": "Python 3",
      "name": "python3"
    },
    "language_info": {
      "name": "python"
    }
  },
  "nbformat": 4,
  "nbformat_minor": 0
}
